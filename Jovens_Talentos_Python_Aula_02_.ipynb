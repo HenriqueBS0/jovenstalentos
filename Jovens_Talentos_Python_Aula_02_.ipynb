{
  "cells": [
    {
      "cell_type": "markdown",
      "metadata": {
        "id": "_UNc0UqdUPXR"
      },
      "source": [
        "## Acesso a base globalstore (pública) no formato csv."
      ]
    },
    {
      "cell_type": "code",
      "execution_count": 1,
      "metadata": {},
      "outputs": [],
      "source": [
        "import pandas as pd"
      ]
    },
    {
      "cell_type": "code",
      "execution_count": 2,
      "metadata": {
        "id": "oc2J0cW6O5GU"
      },
      "outputs": [
        {
          "data": {
            "text/html": [
              "<div>\n",
              "<style scoped>\n",
              "    .dataframe tbody tr th:only-of-type {\n",
              "        vertical-align: middle;\n",
              "    }\n",
              "\n",
              "    .dataframe tbody tr th {\n",
              "        vertical-align: top;\n",
              "    }\n",
              "\n",
              "    .dataframe thead th {\n",
              "        text-align: right;\n",
              "    }\n",
              "</style>\n",
              "<table border=\"1\" class=\"dataframe\">\n",
              "  <thead>\n",
              "    <tr style=\"text-align: right;\">\n",
              "      <th></th>\n",
              "      <th>Row ID</th>\n",
              "      <th>Order ID</th>\n",
              "      <th>Order Date</th>\n",
              "      <th>Ship Date</th>\n",
              "      <th>Ship Mode</th>\n",
              "      <th>Customer ID</th>\n",
              "      <th>Customer Name</th>\n",
              "      <th>Segment</th>\n",
              "      <th>City</th>\n",
              "      <th>State</th>\n",
              "      <th>...</th>\n",
              "      <th>Product ID</th>\n",
              "      <th>Category</th>\n",
              "      <th>Sub-Category</th>\n",
              "      <th>Product Name</th>\n",
              "      <th>Sales</th>\n",
              "      <th>Quantity</th>\n",
              "      <th>Discount</th>\n",
              "      <th>Profit</th>\n",
              "      <th>Shipping Cost</th>\n",
              "      <th>Order Priority</th>\n",
              "    </tr>\n",
              "  </thead>\n",
              "  <tbody>\n",
              "    <tr>\n",
              "      <th>0</th>\n",
              "      <td>1</td>\n",
              "      <td>MX-2014-143658</td>\n",
              "      <td>10-02-14</td>\n",
              "      <td>10-06-14</td>\n",
              "      <td>Standard Class</td>\n",
              "      <td>SC-20575</td>\n",
              "      <td>Sonia Cooley</td>\n",
              "      <td>Consumer</td>\n",
              "      <td>Mexico City</td>\n",
              "      <td>Distrito Federal</td>\n",
              "      <td>...</td>\n",
              "      <td>OFF-LA-10002782</td>\n",
              "      <td>Office Supplies</td>\n",
              "      <td>Labels</td>\n",
              "      <td>Hon File Folder Labels, Adjustable</td>\n",
              "      <td>13.08</td>\n",
              "      <td>3</td>\n",
              "      <td>0.0</td>\n",
              "      <td>4.56</td>\n",
              "      <td>1.033</td>\n",
              "      <td>Medium</td>\n",
              "    </tr>\n",
              "    <tr>\n",
              "      <th>1</th>\n",
              "      <td>2</td>\n",
              "      <td>MX-2012-155047</td>\n",
              "      <td>10-15-12</td>\n",
              "      <td>10-20-12</td>\n",
              "      <td>Standard Class</td>\n",
              "      <td>KW-16570</td>\n",
              "      <td>Kelly Williams</td>\n",
              "      <td>Consumer</td>\n",
              "      <td>Dos Quebradas</td>\n",
              "      <td>Risaralda</td>\n",
              "      <td>...</td>\n",
              "      <td>FUR-FU-10004015</td>\n",
              "      <td>Furniture</td>\n",
              "      <td>Furnishings</td>\n",
              "      <td>Tenex Clock, Durable</td>\n",
              "      <td>252.16</td>\n",
              "      <td>8</td>\n",
              "      <td>0.0</td>\n",
              "      <td>90.72</td>\n",
              "      <td>13.449</td>\n",
              "      <td>Medium</td>\n",
              "    </tr>\n",
              "    <tr>\n",
              "      <th>2</th>\n",
              "      <td>3</td>\n",
              "      <td>MX-2012-155047</td>\n",
              "      <td>10-15-12</td>\n",
              "      <td>10-20-12</td>\n",
              "      <td>Standard Class</td>\n",
              "      <td>KW-16570</td>\n",
              "      <td>Kelly Williams</td>\n",
              "      <td>Consumer</td>\n",
              "      <td>Dos Quebradas</td>\n",
              "      <td>Risaralda</td>\n",
              "      <td>...</td>\n",
              "      <td>FUR-BO-10002352</td>\n",
              "      <td>Furniture</td>\n",
              "      <td>Bookcases</td>\n",
              "      <td>Ikea 3-Shelf Cabinet, Mobile</td>\n",
              "      <td>193.28</td>\n",
              "      <td>2</td>\n",
              "      <td>0.0</td>\n",
              "      <td>54.08</td>\n",
              "      <td>9.627</td>\n",
              "      <td>Medium</td>\n",
              "    </tr>\n",
              "    <tr>\n",
              "      <th>3</th>\n",
              "      <td>4</td>\n",
              "      <td>MX-2012-155047</td>\n",
              "      <td>10-15-12</td>\n",
              "      <td>10-20-12</td>\n",
              "      <td>Standard Class</td>\n",
              "      <td>KW-16570</td>\n",
              "      <td>Kelly Williams</td>\n",
              "      <td>Consumer</td>\n",
              "      <td>Dos Quebradas</td>\n",
              "      <td>Risaralda</td>\n",
              "      <td>...</td>\n",
              "      <td>OFF-BI-10004428</td>\n",
              "      <td>Office Supplies</td>\n",
              "      <td>Binders</td>\n",
              "      <td>Cardinal Binder, Clear</td>\n",
              "      <td>35.44</td>\n",
              "      <td>4</td>\n",
              "      <td>0.0</td>\n",
              "      <td>4.96</td>\n",
              "      <td>1.371</td>\n",
              "      <td>Medium</td>\n",
              "    </tr>\n",
              "    <tr>\n",
              "      <th>4</th>\n",
              "      <td>5</td>\n",
              "      <td>MX-2012-155047</td>\n",
              "      <td>10-15-12</td>\n",
              "      <td>10-20-12</td>\n",
              "      <td>Standard Class</td>\n",
              "      <td>KW-16570</td>\n",
              "      <td>Kelly Williams</td>\n",
              "      <td>Consumer</td>\n",
              "      <td>Dos Quebradas</td>\n",
              "      <td>Risaralda</td>\n",
              "      <td>...</td>\n",
              "      <td>OFF-AR-10004594</td>\n",
              "      <td>Office Supplies</td>\n",
              "      <td>Art</td>\n",
              "      <td>Sanford Canvas, Water Color</td>\n",
              "      <td>71.60</td>\n",
              "      <td>2</td>\n",
              "      <td>0.0</td>\n",
              "      <td>11.44</td>\n",
              "      <td>3.787</td>\n",
              "      <td>Medium</td>\n",
              "    </tr>\n",
              "    <tr>\n",
              "      <th>...</th>\n",
              "      <td>...</td>\n",
              "      <td>...</td>\n",
              "      <td>...</td>\n",
              "      <td>...</td>\n",
              "      <td>...</td>\n",
              "      <td>...</td>\n",
              "      <td>...</td>\n",
              "      <td>...</td>\n",
              "      <td>...</td>\n",
              "      <td>...</td>\n",
              "      <td>...</td>\n",
              "      <td>...</td>\n",
              "      <td>...</td>\n",
              "      <td>...</td>\n",
              "      <td>...</td>\n",
              "      <td>...</td>\n",
              "      <td>...</td>\n",
              "      <td>...</td>\n",
              "      <td>...</td>\n",
              "      <td>...</td>\n",
              "      <td>...</td>\n",
              "    </tr>\n",
              "    <tr>\n",
              "      <th>51285</th>\n",
              "      <td>51286</td>\n",
              "      <td>HU-2012-7730</td>\n",
              "      <td>09-05-12</td>\n",
              "      <td>09-07-12</td>\n",
              "      <td>First Class</td>\n",
              "      <td>NF-8385</td>\n",
              "      <td>Natalie Fritzler</td>\n",
              "      <td>Consumer</td>\n",
              "      <td>Budapest</td>\n",
              "      <td>Budapest</td>\n",
              "      <td>...</td>\n",
              "      <td>OFF-AVE-10004570</td>\n",
              "      <td>Office Supplies</td>\n",
              "      <td>Binders</td>\n",
              "      <td>Avery Binder Covers, Economy</td>\n",
              "      <td>11.07</td>\n",
              "      <td>1</td>\n",
              "      <td>0.0</td>\n",
              "      <td>3.42</td>\n",
              "      <td>1.980</td>\n",
              "      <td>High</td>\n",
              "    </tr>\n",
              "    <tr>\n",
              "      <th>51286</th>\n",
              "      <td>51287</td>\n",
              "      <td>HU-2012-7730</td>\n",
              "      <td>09-05-12</td>\n",
              "      <td>09-07-12</td>\n",
              "      <td>First Class</td>\n",
              "      <td>NF-8385</td>\n",
              "      <td>Natalie Fritzler</td>\n",
              "      <td>Consumer</td>\n",
              "      <td>Budapest</td>\n",
              "      <td>Budapest</td>\n",
              "      <td>...</td>\n",
              "      <td>TEC-LOG-10004419</td>\n",
              "      <td>Technology</td>\n",
              "      <td>Accessories</td>\n",
              "      <td>Logitech Flash Drive, USB</td>\n",
              "      <td>61.44</td>\n",
              "      <td>2</td>\n",
              "      <td>0.0</td>\n",
              "      <td>18.42</td>\n",
              "      <td>13.020</td>\n",
              "      <td>High</td>\n",
              "    </tr>\n",
              "    <tr>\n",
              "      <th>51287</th>\n",
              "      <td>51288</td>\n",
              "      <td>HU-2012-7730</td>\n",
              "      <td>09-05-12</td>\n",
              "      <td>09-07-12</td>\n",
              "      <td>First Class</td>\n",
              "      <td>NF-8385</td>\n",
              "      <td>Natalie Fritzler</td>\n",
              "      <td>Consumer</td>\n",
              "      <td>Budapest</td>\n",
              "      <td>Budapest</td>\n",
              "      <td>...</td>\n",
              "      <td>OFF-BOS-10002705</td>\n",
              "      <td>Office Supplies</td>\n",
              "      <td>Art</td>\n",
              "      <td>Boston Highlighters, Fluorescent</td>\n",
              "      <td>80.52</td>\n",
              "      <td>4</td>\n",
              "      <td>0.0</td>\n",
              "      <td>20.88</td>\n",
              "      <td>8.780</td>\n",
              "      <td>High</td>\n",
              "    </tr>\n",
              "    <tr>\n",
              "      <th>51288</th>\n",
              "      <td>51289</td>\n",
              "      <td>HU-2012-7730</td>\n",
              "      <td>09-05-12</td>\n",
              "      <td>09-07-12</td>\n",
              "      <td>First Class</td>\n",
              "      <td>NF-8385</td>\n",
              "      <td>Natalie Fritzler</td>\n",
              "      <td>Consumer</td>\n",
              "      <td>Budapest</td>\n",
              "      <td>Budapest</td>\n",
              "      <td>...</td>\n",
              "      <td>OFF-ENE-10004132</td>\n",
              "      <td>Office Supplies</td>\n",
              "      <td>Paper</td>\n",
              "      <td>Enermax Computer Printout Paper, 8.5 x 11</td>\n",
              "      <td>130.44</td>\n",
              "      <td>4</td>\n",
              "      <td>0.0</td>\n",
              "      <td>33.84</td>\n",
              "      <td>18.970</td>\n",
              "      <td>High</td>\n",
              "    </tr>\n",
              "    <tr>\n",
              "      <th>51289</th>\n",
              "      <td>51290</td>\n",
              "      <td>IZ-2011-5750</td>\n",
              "      <td>08-25-11</td>\n",
              "      <td>08-29-11</td>\n",
              "      <td>Standard Class</td>\n",
              "      <td>SZ-10035</td>\n",
              "      <td>Sam Zeldin</td>\n",
              "      <td>Home Office</td>\n",
              "      <td>Baghdad</td>\n",
              "      <td>Baghdad</td>\n",
              "      <td>...</td>\n",
              "      <td>OFF-ACC-10002343</td>\n",
              "      <td>Office Supplies</td>\n",
              "      <td>Binders</td>\n",
              "      <td>Acco 3-Hole Punch, Durable</td>\n",
              "      <td>31.62</td>\n",
              "      <td>1</td>\n",
              "      <td>0.0</td>\n",
              "      <td>12.96</td>\n",
              "      <td>2.400</td>\n",
              "      <td>Medium</td>\n",
              "    </tr>\n",
              "  </tbody>\n",
              "</table>\n",
              "<p>51290 rows × 24 columns</p>\n",
              "</div>"
            ],
            "text/plain": [
              "       Row ID        Order ID Order Date Ship Date       Ship Mode  \\\n",
              "0           1  MX-2014-143658   10-02-14  10-06-14  Standard Class   \n",
              "1           2  MX-2012-155047   10-15-12  10-20-12  Standard Class   \n",
              "2           3  MX-2012-155047   10-15-12  10-20-12  Standard Class   \n",
              "3           4  MX-2012-155047   10-15-12  10-20-12  Standard Class   \n",
              "4           5  MX-2012-155047   10-15-12  10-20-12  Standard Class   \n",
              "...       ...             ...        ...       ...             ...   \n",
              "51285   51286    HU-2012-7730   09-05-12  09-07-12     First Class   \n",
              "51286   51287    HU-2012-7730   09-05-12  09-07-12     First Class   \n",
              "51287   51288    HU-2012-7730   09-05-12  09-07-12     First Class   \n",
              "51288   51289    HU-2012-7730   09-05-12  09-07-12     First Class   \n",
              "51289   51290    IZ-2011-5750   08-25-11  08-29-11  Standard Class   \n",
              "\n",
              "      Customer ID     Customer Name      Segment           City  \\\n",
              "0        SC-20575      Sonia Cooley     Consumer    Mexico City   \n",
              "1        KW-16570    Kelly Williams     Consumer  Dos Quebradas   \n",
              "2        KW-16570    Kelly Williams     Consumer  Dos Quebradas   \n",
              "3        KW-16570    Kelly Williams     Consumer  Dos Quebradas   \n",
              "4        KW-16570    Kelly Williams     Consumer  Dos Quebradas   \n",
              "...           ...               ...          ...            ...   \n",
              "51285     NF-8385  Natalie Fritzler     Consumer       Budapest   \n",
              "51286     NF-8385  Natalie Fritzler     Consumer       Budapest   \n",
              "51287     NF-8385  Natalie Fritzler     Consumer       Budapest   \n",
              "51288     NF-8385  Natalie Fritzler     Consumer       Budapest   \n",
              "51289    SZ-10035        Sam Zeldin  Home Office        Baghdad   \n",
              "\n",
              "                  State  ...        Product ID         Category Sub-Category  \\\n",
              "0      Distrito Federal  ...   OFF-LA-10002782  Office Supplies       Labels   \n",
              "1             Risaralda  ...   FUR-FU-10004015        Furniture  Furnishings   \n",
              "2             Risaralda  ...   FUR-BO-10002352        Furniture    Bookcases   \n",
              "3             Risaralda  ...   OFF-BI-10004428  Office Supplies      Binders   \n",
              "4             Risaralda  ...   OFF-AR-10004594  Office Supplies          Art   \n",
              "...                 ...  ...               ...              ...          ...   \n",
              "51285          Budapest  ...  OFF-AVE-10004570  Office Supplies      Binders   \n",
              "51286          Budapest  ...  TEC-LOG-10004419       Technology  Accessories   \n",
              "51287          Budapest  ...  OFF-BOS-10002705  Office Supplies          Art   \n",
              "51288          Budapest  ...  OFF-ENE-10004132  Office Supplies        Paper   \n",
              "51289           Baghdad  ...  OFF-ACC-10002343  Office Supplies      Binders   \n",
              "\n",
              "                                    Product Name   Sales Quantity Discount  \\\n",
              "0             Hon File Folder Labels, Adjustable   13.08        3      0.0   \n",
              "1                           Tenex Clock, Durable  252.16        8      0.0   \n",
              "2                   Ikea 3-Shelf Cabinet, Mobile  193.28        2      0.0   \n",
              "3                         Cardinal Binder, Clear   35.44        4      0.0   \n",
              "4                    Sanford Canvas, Water Color   71.60        2      0.0   \n",
              "...                                          ...     ...      ...      ...   \n",
              "51285               Avery Binder Covers, Economy   11.07        1      0.0   \n",
              "51286                  Logitech Flash Drive, USB   61.44        2      0.0   \n",
              "51287           Boston Highlighters, Fluorescent   80.52        4      0.0   \n",
              "51288  Enermax Computer Printout Paper, 8.5 x 11  130.44        4      0.0   \n",
              "51289                 Acco 3-Hole Punch, Durable   31.62        1      0.0   \n",
              "\n",
              "      Profit  Shipping Cost  Order Priority  \n",
              "0       4.56          1.033          Medium  \n",
              "1      90.72         13.449          Medium  \n",
              "2      54.08          9.627          Medium  \n",
              "3       4.96          1.371          Medium  \n",
              "4      11.44          3.787          Medium  \n",
              "...      ...            ...             ...  \n",
              "51285   3.42          1.980            High  \n",
              "51286  18.42         13.020            High  \n",
              "51287  20.88          8.780            High  \n",
              "51288  33.84         18.970            High  \n",
              "51289  12.96          2.400          Medium  \n",
              "\n",
              "[51290 rows x 24 columns]"
            ]
          },
          "execution_count": 2,
          "metadata": {},
          "output_type": "execute_result"
        }
      ],
      "source": [
        "globalstore = pd.read_csv('globalstore.csv')\n",
        "globalstore"
      ]
    },
    {
      "cell_type": "code",
      "execution_count": null,
      "metadata": {
        "id": "J6p6GTNByx3U"
      },
      "outputs": [],
      "source": [
        "globalstore.info()"
      ]
    },
    {
      "cell_type": "code",
      "execution_count": null,
      "metadata": {},
      "outputs": [],
      "source": [
        "globalstore.head(10)"
      ]
    },
    {
      "cell_type": "code",
      "execution_count": null,
      "metadata": {},
      "outputs": [],
      "source": [
        "globalstore.tail(5)"
      ]
    },
    {
      "cell_type": "code",
      "execution_count": 3,
      "metadata": {
        "id": "mi0LT2Tpyg80"
      },
      "outputs": [],
      "source": [
        "globalstore = globalstore.rename(\n",
        "    columns = {\n",
        "        'Row ID': 'items_sequence',\n",
        "        'Order ID': 'order_number',\n",
        "        'Order Date': 'order_date',\n",
        "        'Ship Date': 'ship_date',\n",
        "        'Ship Mode': 'ship_mode',\n",
        "        'Customer ID': 'customer_id',\n",
        "        'Customer Name': 'customer_name',\n",
        "        'Segment': 'segment',\n",
        "        'State': 'state',\n",
        "        'City': 'city',\n",
        "        'Country': 'country',\n",
        "        'Postal Code': 'postal_code',\n",
        "        'Region': 'region',\n",
        "        'Market': 'market',\n",
        "        'Product ID': 'product_id',\n",
        "        'Product Name': 'product_name',\n",
        "        'Category': 'category',\n",
        "        'Sub-Category': 'subcategory',\n",
        "        'Sales': 'sales',\n",
        "        'Quantity': 'quantity',\n",
        "        'Profit': 'profit',\n",
        "        'Discount': 'discount',\n",
        "        'Shipping Cost': 'shipping_cost',\n",
        "        'Order Priority': 'order_priority',\n",
        "    }\n",
        ")"
      ]
    },
    {
      "cell_type": "code",
      "execution_count": null,
      "metadata": {
        "id": "sftIKhwl061N"
      },
      "outputs": [],
      "source": [
        "globalstore"
      ]
    },
    {
      "cell_type": "code",
      "execution_count": null,
      "metadata": {},
      "outputs": [],
      "source": [
        "globalstore = globalstore.drop(\n",
        "    columns = [\n",
        "        'items_sequence'\n",
        "    ]\n",
        ")"
      ]
    },
    {
      "cell_type": "code",
      "execution_count": null,
      "metadata": {
        "id": "O1mvzNLR2kGd"
      },
      "outputs": [],
      "source": [
        "globalstore.info()"
      ]
    },
    {
      "cell_type": "code",
      "execution_count": null,
      "metadata": {},
      "outputs": [],
      "source": [
        "for coluna in globalstore.columns:\n",
        "    print(globalstore[coluna])"
      ]
    },
    {
      "cell_type": "code",
      "execution_count": null,
      "metadata": {},
      "outputs": [],
      "source": [
        "globalstore['teste'] = 1\n",
        "globalstore"
      ]
    },
    {
      "cell_type": "code",
      "execution_count": null,
      "metadata": {},
      "outputs": [],
      "source": [
        "globalstore['valor_unitario'] = globalstore['sales'] / globalstore['quantity']"
      ]
    },
    {
      "cell_type": "code",
      "execution_count": 35,
      "metadata": {},
      "outputs": [],
      "source": [
        "globalstore_copy = globalstore.copy()"
      ]
    },
    {
      "cell_type": "code",
      "execution_count": 43,
      "metadata": {},
      "outputs": [],
      "source": [
        "gs_lucro = globalstore[\n",
        "    (globalstore['profit'] > 100) & \n",
        "    (globalstore['ship_mode'] == 'Standard Class')\n",
        "][['order_date', 'ship_date', 'sales']].sort_values(\n",
        "    by='sales', ascending=False\n",
        ")"
      ]
    },
    {
      "cell_type": "code",
      "execution_count": 44,
      "metadata": {},
      "outputs": [
        {
          "data": {
            "text/html": [
              "<div>\n",
              "<style scoped>\n",
              "    .dataframe tbody tr th:only-of-type {\n",
              "        vertical-align: middle;\n",
              "    }\n",
              "\n",
              "    .dataframe tbody tr th {\n",
              "        vertical-align: top;\n",
              "    }\n",
              "\n",
              "    .dataframe thead th {\n",
              "        text-align: right;\n",
              "    }\n",
              "</style>\n",
              "<table border=\"1\" class=\"dataframe\">\n",
              "  <thead>\n",
              "    <tr style=\"text-align: right;\">\n",
              "      <th></th>\n",
              "      <th>order_date</th>\n",
              "      <th>ship_date</th>\n",
              "      <th>sales</th>\n",
              "    </tr>\n",
              "  </thead>\n",
              "  <tbody>\n",
              "    <tr>\n",
              "      <th>38122</th>\n",
              "      <td>10-03-13</td>\n",
              "      <td>10-10-13</td>\n",
              "      <td>17499.95</td>\n",
              "    </tr>\n",
              "    <tr>\n",
              "      <th>35486</th>\n",
              "      <td>11-18-14</td>\n",
              "      <td>11-23-14</td>\n",
              "      <td>10499.97</td>\n",
              "    </tr>\n",
              "    <tr>\n",
              "      <th>40335</th>\n",
              "      <td>12-18-13</td>\n",
              "      <td>12-22-13</td>\n",
              "      <td>9892.74</td>\n",
              "    </tr>\n",
              "    <tr>\n",
              "      <th>35394</th>\n",
              "      <td>09-23-11</td>\n",
              "      <td>09-28-11</td>\n",
              "      <td>9449.95</td>\n",
              "    </tr>\n",
              "    <tr>\n",
              "      <th>35573</th>\n",
              "      <td>04-17-13</td>\n",
              "      <td>04-21-13</td>\n",
              "      <td>9099.93</td>\n",
              "    </tr>\n",
              "    <tr>\n",
              "      <th>...</th>\n",
              "      <td>...</td>\n",
              "      <td>...</td>\n",
              "      <td>...</td>\n",
              "    </tr>\n",
              "    <tr>\n",
              "      <th>35535</th>\n",
              "      <td>12-30-14</td>\n",
              "      <td>01-05-15</td>\n",
              "      <td>209.70</td>\n",
              "    </tr>\n",
              "    <tr>\n",
              "      <th>4897</th>\n",
              "      <td>04-14-12</td>\n",
              "      <td>04-20-12</td>\n",
              "      <td>208.96</td>\n",
              "    </tr>\n",
              "    <tr>\n",
              "      <th>18819</th>\n",
              "      <td>09-27-11</td>\n",
              "      <td>10-04-11</td>\n",
              "      <td>205.80</td>\n",
              "    </tr>\n",
              "    <tr>\n",
              "      <th>39413</th>\n",
              "      <td>07-01-14</td>\n",
              "      <td>07-06-14</td>\n",
              "      <td>204.95</td>\n",
              "    </tr>\n",
              "    <tr>\n",
              "      <th>7096</th>\n",
              "      <td>01-13-11</td>\n",
              "      <td>01-17-11</td>\n",
              "      <td>201.26</td>\n",
              "    </tr>\n",
              "  </tbody>\n",
              "</table>\n",
              "<p>3456 rows × 3 columns</p>\n",
              "</div>"
            ],
            "text/plain": [
              "      order_date ship_date     sales\n",
              "38122   10-03-13  10-10-13  17499.95\n",
              "35486   11-18-14  11-23-14  10499.97\n",
              "40335   12-18-13  12-22-13   9892.74\n",
              "35394   09-23-11  09-28-11   9449.95\n",
              "35573   04-17-13  04-21-13   9099.93\n",
              "...          ...       ...       ...\n",
              "35535   12-30-14  01-05-15    209.70\n",
              "4897    04-14-12  04-20-12    208.96\n",
              "18819   09-27-11  10-04-11    205.80\n",
              "39413   07-01-14  07-06-14    204.95\n",
              "7096    01-13-11  01-17-11    201.26\n",
              "\n",
              "[3456 rows x 3 columns]"
            ]
          },
          "execution_count": 44,
          "metadata": {},
          "output_type": "execute_result"
        }
      ],
      "source": [
        "for index, row in globalstore.iterrows():\n",
        "    print(index)\n",
        "    print(row)"
      ]
    },
    {
      "cell_type": "code",
      "execution_count": 1,
      "metadata": {},
      "outputs": [
        {
          "ename": "NameError",
          "evalue": "name 'globalstore' is not defined",
          "output_type": "error",
          "traceback": [
            "\u001b[0;31m---------------------------------------------------------------------------\u001b[0m",
            "\u001b[0;31mNameError\u001b[0m                                 Traceback (most recent call last)",
            "Cell \u001b[0;32mIn[1], line 1\u001b[0m\n\u001b[0;32m----> 1\u001b[0m \u001b[39mfor\u001b[39;00m index, row \u001b[39min\u001b[39;00m globalstore[\n\u001b[1;32m      2\u001b[0m     [\u001b[39m'\u001b[39m\u001b[39mmarket\u001b[39m\u001b[39m'\u001b[39m, \u001b[39m'\u001b[39m\u001b[39msegment\u001b[39m\u001b[39m'\u001b[39m]\n\u001b[1;32m      3\u001b[0m ]\u001b[39m.\u001b[39mdrop_duplicate\u001b[39m.\u001b[39miterrows():\n\u001b[1;32m      4\u001b[0m     globalstore_filtro \u001b[39m=\u001b[39m globalstore[\n\u001b[1;32m      5\u001b[0m         (globalstore[\u001b[39m'\u001b[39m\u001b[39mmarket\u001b[39m\u001b[39m'\u001b[39m] \u001b[39m==\u001b[39m row[\u001b[39m'\u001b[39m\u001b[39mmarket\u001b[39m\u001b[39m'\u001b[39m]) \u001b[39m&\u001b[39m\n\u001b[1;32m      6\u001b[0m         (globalstore[\u001b[39m'\u001b[39m\u001b[39msegment\u001b[39m\u001b[39m'\u001b[39m] \u001b[39m==\u001b[39m row[\u001b[39m'\u001b[39m\u001b[39msegment\u001b[39m\u001b[39m'\u001b[39m])\n\u001b[1;32m      7\u001b[0m     ]\n\u001b[1;32m      8\u001b[0m     \u001b[39mprint\u001b[39m(globalstore_filtro)\n",
            "\u001b[0;31mNameError\u001b[0m: name 'globalstore' is not defined"
          ]
        }
      ],
      "source": [
        "for index, row in globalstore[\n",
        "    ['market', 'segment']\n",
        "].drop_duplicate.iterrows():\n",
        "    globalstore_filtro = globalstore[\n",
        "        (globalstore['market'] == row['market']) &\n",
        "        (globalstore['segment'] == row['segment'])\n",
        "    ]\n",
        "    print(globalstore_filtro)"
      ]
    },
    {
      "cell_type": "code",
      "execution_count": null,
      "metadata": {
        "id": "pP53fOfHE1P5"
      },
      "outputs": [],
      "source": [
        "globalstore['Order Date'] = globalstore['Order Date'].astype('datetime64[ns]')\n",
        "globalstore['Ship Date'] = globalstore['Ship Date'].astype('datetime64[ns]')\n",
        "globalstore.info()"
      ]
    },
    {
      "cell_type": "markdown",
      "metadata": {
        "id": "JZNJvlezTdy3"
      },
      "source": [
        "## Pacotes de Acesso:\n",
        "- Pandas: acesso e maipulação de dados\n",
        "- sqlite3: conexao com banco relacional sqlite"
      ]
    },
    {
      "cell_type": "code",
      "execution_count": null,
      "metadata": {
        "id": "MqibmWh5OZZl"
      },
      "outputs": [],
      "source": [
        "import sqlite3 as sql"
      ]
    },
    {
      "cell_type": "markdown",
      "metadata": {
        "id": "C9YaQgaWT3zZ"
      },
      "source": [
        "## String de conexão \n",
        "O banco de dados sqlite gera um instancia local. Quando for acesso a um servidor passar a url. Alguns bancos de dados requerem mais parâmetros para realizar a conexão.\n"
      ]
    },
    {
      "cell_type": "code",
      "execution_count": null,
      "metadata": {
        "id": "9WXboAusOo5E"
      },
      "outputs": [],
      "source": [
        "conexao = sql.connect('globalstore.db')"
      ]
    },
    {
      "cell_type": "markdown",
      "metadata": {
        "id": "kkc5XI4SU6Pp"
      },
      "source": [
        "## Função de normalização - Aplicação da terceira forma normal (dependencia transitiva)\n",
        "\n",
        "A dependência transitiva ocorre quando um ou mais atributos estão diretamente relacionados ao conteúdo de um atributo, não pertencente a chave primária (identificador) da tabela\n",
        "\n",
        "Os parâmetros informados são:\n",
        "dataframe: conjunto de dados originais;\n",
        "colunas: lista de colunas "
      ]
    },
    {
      "cell_type": "code",
      "execution_count": null,
      "metadata": {
        "id": "I3bQl_yEO_Tt"
      },
      "outputs": [],
      "source": [
        "def normalizacao(dataframe, colunas, apelido):\n",
        "    if len(colunas) == 1:\n",
        "        normalizado = [[s, d] for s, d in enumerate(dataframe[colunas[0]].unique())]\n",
        "        normalizado = pd.DataFrame(\n",
        "            normalizado,\n",
        "            columns = [\n",
        "                apelido+'_sequence',\n",
        "                'description'\n",
        "            ]\n",
        "        )\n",
        "        dataframe = dataframe.merge(\n",
        "            normalizado,\n",
        "            left_on = colunas,\n",
        "            right_on = 'description',\n",
        "            how = 'left'\n",
        "        )\n",
        "        dataframe = dataframe.drop(\n",
        "            columns = [colunas, 'description']\n",
        "        )\n",
        "    else:\n",
        "        normalizado = dataframe[colunas].drop_duplicates().reset_index()\n",
        "        normalizado = normalizado.rename(\n",
        "            columns={'index': apelido+'_sequence'}\n",
        "        )\n",
        "        dataframe = dataframe.merge(\n",
        "            normalizado, \n",
        "            right_on=colunas,\n",
        "            left_on=colunas, \n",
        "            how='left'\n",
        "        )\n",
        "        for coluna in dataframe.columns:\n",
        "            if coluna.endswith('_x') or coluna.endswith('_y') or coluna in colunas:\n",
        "                dataframe = dataframe.drop(columns=coluna)        \n",
        "    return dataframe, normalizado"
      ]
    },
    {
      "cell_type": "code",
      "execution_count": null,
      "metadata": {
        "id": "LYIMT5xlPEKU"
      },
      "outputs": [],
      "source": [
        "items, orders = normalizacao(\n",
        "    globalstore, \n",
        "    [\n",
        "        'order_number',\n",
        "        'order_date',\n",
        "        'ship_date',\n",
        "        'ship_mode',\n",
        "        'customer_id',\n",
        "        'customer_name',\n",
        "        'segment',\n",
        "        'city',\n",
        "        'state',\n",
        "        'country',\n",
        "        'postal_code',\n",
        "        'market',\n",
        "        'region',\n",
        "        'order_priority'\n",
        "    ], \n",
        "    'ord', \n",
        ")"
      ]
    },
    {
      "cell_type": "code",
      "execution_count": null,
      "metadata": {
        "colab": {
          "base_uri": "https://localhost:8080/",
          "height": 624
        },
        "id": "bKiS0xFyPKMc",
        "outputId": "9f4db3d6-101b-4cd6-c77c-6e4e8c75279a"
      },
      "outputs": [],
      "source": [
        "orders"
      ]
    },
    {
      "cell_type": "code",
      "execution_count": null,
      "metadata": {
        "colab": {
          "base_uri": "https://localhost:8080/",
          "height": 424
        },
        "id": "eb4sxs5JPLhs",
        "outputId": "872a4f6f-2bde-4f5e-bc74-13eb0e88bc81"
      },
      "outputs": [],
      "source": [
        "items"
      ]
    },
    {
      "cell_type": "markdown",
      "metadata": {
        "id": "EStFKgDyPNQ2"
      },
      "source": [
        "Exercício:\n",
        "- Normalizar a tabela items com product;\n",
        "- Normalizar a tablea product com subcategory;\n",
        "- Normalizar a tabela subcategory com category;\n",
        "- Normalizar a tabela orders para client;\n",
        "- Normalizar a tabela cliente para city;\n",
        "- Normalizar a tabela city para market;\n"
      ]
    },
    {
      "cell_type": "markdown",
      "metadata": {
        "id": "2ALFiF9wVqzC"
      },
      "source": [
        "## Dados em conjuntos para uso durante o processo\n",
        "recomenda-se formato parquet ou feather."
      ]
    },
    {
      "cell_type": "code",
      "execution_count": null,
      "metadata": {
        "id": "OYla8wTMRCSb"
      },
      "outputs": [],
      "source": [
        "orders.to_parquet('orders.parquet')"
      ]
    },
    {
      "cell_type": "code",
      "execution_count": null,
      "metadata": {
        "id": "JSFEwxxjbfTf"
      },
      "outputs": [],
      "source": [
        "orders.read_parquet('orders.parquet')\n",
        "orders"
      ]
    },
    {
      "cell_type": "markdown",
      "metadata": {
        "id": "GDRnvXoUROWz"
      },
      "source": [
        "Atividade: Salvar todas as tabelas no formato parquet"
      ]
    },
    {
      "cell_type": "markdown",
      "metadata": {
        "id": "9juf_cw8bNBF"
      },
      "source": [
        "Atividade Extra: \n",
        "- remontar a estrutura original com a função merge\n",
        "- criar um banco de dados com os dados referentes aos mercados 'LATAM' e 'US'  "
      ]
    },
    {
      "cell_type": "markdown",
      "metadata": {
        "id": "nH03UK4MV6ko"
      },
      "source": [
        "## Dados para banco de dados relacional\n"
      ]
    },
    {
      "cell_type": "code",
      "execution_count": null,
      "metadata": {
        "id": "LIMOe5ZdPMos"
      },
      "outputs": [],
      "source": [
        "orders.to_sql(\n",
        "    name='orders',\n",
        "    con=conexao,\n",
        "    if_exists='replace'\n",
        ")"
      ]
    },
    {
      "cell_type": "code",
      "execution_count": null,
      "metadata": {
        "id": "nSsZCWhZRoU6"
      },
      "outputs": [],
      "source": [
        "step = 10000\n",
        "for linhas in range(0, len(items), step):\n",
        "    print(linhas)\n",
        "    items[linhas:linhas+step].to_sql(\n",
        "        name='items',\n",
        "        con=conexao,\n",
        "        if_exists='append'       \n",
        "    )\n",
        "\n",
        "## items.to_sql(name='outros_items', con=conexao, if_exists='append', chunksize=10000)    "
      ]
    },
    {
      "cell_type": "code",
      "execution_count": null,
      "metadata": {
        "id": "6IjQChiG7itm"
      },
      "outputs": [],
      "source": [
        "conexao_normalizada = sql.connect('globalstore_normalizada.db')"
      ]
    },
    {
      "cell_type": "code",
      "execution_count": null,
      "metadata": {
        "id": "E_IVBZ678iaa"
      },
      "outputs": [],
      "source": [
        "for tabela in ['category', 'subcategory', 'products', 'orders', 'items', 'customer', 'city', 'region']:\n",
        "    eval(tabela).to_sql(\n",
        "        tabela,\n",
        "        con = conexao_normalizada,\n",
        "        if_exists = 'replace'\n",
        "    )"
      ]
    },
    {
      "cell_type": "markdown",
      "metadata": {
        "id": "zLvMFOECQxXG"
      },
      "source": [
        "Atividade: Salvar as demais tabela no banco de dados relacional "
      ]
    },
    {
      "cell_type": "code",
      "execution_count": null,
      "metadata": {
        "id": "repgBegYQwOc"
      },
      "outputs": [],
      "source": [
        "with conexao:\n",
        "    data = conexao.execute(\"select * from items\")\n",
        "    for row in data:\n",
        "        print(row)"
      ]
    },
    {
      "cell_type": "markdown",
      "metadata": {
        "id": "CHbtadhCTWVj"
      },
      "source": [
        "Atividade: \n",
        "- Listar os clientes que compraram os produtos da categoria 'Furniture';\n",
        "- Listar a quantidade de produtos agrupados por pais e cidade;"
      ]
    }
  ],
  "metadata": {
    "colab": {
      "provenance": []
    },
    "kernelspec": {
      "display_name": "Python 3",
      "name": "python3"
    },
    "language_info": {
      "codemirror_mode": {
        "name": "ipython",
        "version": 3
      },
      "file_extension": ".py",
      "mimetype": "text/x-python",
      "name": "python",
      "nbconvert_exporter": "python",
      "pygments_lexer": "ipython3",
      "version": "3.8.16"
    }
  },
  "nbformat": 4,
  "nbformat_minor": 0
}
